{
 "cells": [
  {
   "cell_type": "code",
   "execution_count": 1,
   "metadata": {
    "colab": {},
    "colab_type": "code",
    "id": "GZXZcWrOQmvB"
   },
   "outputs": [
    {
     "name": "stderr",
     "output_type": "stream",
     "text": [
      "[nltk_data] Downloading package stopwords to\n",
      "[nltk_data]     /Users/aashaiavadhani/nltk_data...\n",
      "[nltk_data]   Package stopwords is already up-to-date!\n",
      "Using TensorFlow backend.\n",
      "/Users/aashaiavadhani/.local/lib/python3.7/site-packages/tensorflow/python/framework/dtypes.py:516: FutureWarning: Passing (type, 1) or '1type' as a synonym of type is deprecated; in a future version of numpy, it will be understood as (type, (1,)) / '(1,)type'.\n",
      "  _np_qint8 = np.dtype([(\"qint8\", np.int8, 1)])\n",
      "/Users/aashaiavadhani/.local/lib/python3.7/site-packages/tensorflow/python/framework/dtypes.py:517: FutureWarning: Passing (type, 1) or '1type' as a synonym of type is deprecated; in a future version of numpy, it will be understood as (type, (1,)) / '(1,)type'.\n",
      "  _np_quint8 = np.dtype([(\"quint8\", np.uint8, 1)])\n",
      "/Users/aashaiavadhani/.local/lib/python3.7/site-packages/tensorflow/python/framework/dtypes.py:518: FutureWarning: Passing (type, 1) or '1type' as a synonym of type is deprecated; in a future version of numpy, it will be understood as (type, (1,)) / '(1,)type'.\n",
      "  _np_qint16 = np.dtype([(\"qint16\", np.int16, 1)])\n",
      "/Users/aashaiavadhani/.local/lib/python3.7/site-packages/tensorflow/python/framework/dtypes.py:519: FutureWarning: Passing (type, 1) or '1type' as a synonym of type is deprecated; in a future version of numpy, it will be understood as (type, (1,)) / '(1,)type'.\n",
      "  _np_quint16 = np.dtype([(\"quint16\", np.uint16, 1)])\n",
      "/Users/aashaiavadhani/.local/lib/python3.7/site-packages/tensorflow/python/framework/dtypes.py:520: FutureWarning: Passing (type, 1) or '1type' as a synonym of type is deprecated; in a future version of numpy, it will be understood as (type, (1,)) / '(1,)type'.\n",
      "  _np_qint32 = np.dtype([(\"qint32\", np.int32, 1)])\n",
      "/Users/aashaiavadhani/.local/lib/python3.7/site-packages/tensorflow/python/framework/dtypes.py:525: FutureWarning: Passing (type, 1) or '1type' as a synonym of type is deprecated; in a future version of numpy, it will be understood as (type, (1,)) / '(1,)type'.\n",
      "  np_resource = np.dtype([(\"resource\", np.ubyte, 1)])\n",
      "/Users/aashaiavadhani/.local/lib/python3.7/site-packages/tensorboard/compat/tensorflow_stub/dtypes.py:541: FutureWarning: Passing (type, 1) or '1type' as a synonym of type is deprecated; in a future version of numpy, it will be understood as (type, (1,)) / '(1,)type'.\n",
      "  _np_qint8 = np.dtype([(\"qint8\", np.int8, 1)])\n",
      "/Users/aashaiavadhani/.local/lib/python3.7/site-packages/tensorboard/compat/tensorflow_stub/dtypes.py:542: FutureWarning: Passing (type, 1) or '1type' as a synonym of type is deprecated; in a future version of numpy, it will be understood as (type, (1,)) / '(1,)type'.\n",
      "  _np_quint8 = np.dtype([(\"quint8\", np.uint8, 1)])\n",
      "/Users/aashaiavadhani/.local/lib/python3.7/site-packages/tensorboard/compat/tensorflow_stub/dtypes.py:543: FutureWarning: Passing (type, 1) or '1type' as a synonym of type is deprecated; in a future version of numpy, it will be understood as (type, (1,)) / '(1,)type'.\n",
      "  _np_qint16 = np.dtype([(\"qint16\", np.int16, 1)])\n",
      "/Users/aashaiavadhani/.local/lib/python3.7/site-packages/tensorboard/compat/tensorflow_stub/dtypes.py:544: FutureWarning: Passing (type, 1) or '1type' as a synonym of type is deprecated; in a future version of numpy, it will be understood as (type, (1,)) / '(1,)type'.\n",
      "  _np_quint16 = np.dtype([(\"quint16\", np.uint16, 1)])\n",
      "/Users/aashaiavadhani/.local/lib/python3.7/site-packages/tensorboard/compat/tensorflow_stub/dtypes.py:545: FutureWarning: Passing (type, 1) or '1type' as a synonym of type is deprecated; in a future version of numpy, it will be understood as (type, (1,)) / '(1,)type'.\n",
      "  _np_qint32 = np.dtype([(\"qint32\", np.int32, 1)])\n",
      "/Users/aashaiavadhani/.local/lib/python3.7/site-packages/tensorboard/compat/tensorflow_stub/dtypes.py:550: FutureWarning: Passing (type, 1) or '1type' as a synonym of type is deprecated; in a future version of numpy, it will be understood as (type, (1,)) / '(1,)type'.\n",
      "  np_resource = np.dtype([(\"resource\", np.ubyte, 1)])\n"
     ]
    }
   ],
   "source": [
    "import pandas as pd \n",
    "import numpy as np \n",
    "import torch.nn as nn\n",
    "import nltk\n",
    "import string\n",
    "nltk.download(\"stopwords\")\n",
    "from nltk.corpus import stopwords \n",
    "from nltk.tokenize import word_tokenize \n",
    "from pytorch_pretrained_bert import BertTokenizer, BertModel\n",
    "import torch\n",
    "from keras.preprocessing.sequence import pad_sequences\n",
    "from sklearn.metrics import classification_report"
   ]
  },
  {
   "cell_type": "code",
   "execution_count": 2,
   "metadata": {
    "colab": {},
    "colab_type": "code",
    "id": "Je0mWLDEQmvF"
   },
   "outputs": [],
   "source": [
    "import requests\n",
    "import matplotlib.pyplot as plt\n",
    "from bs4 import BeautifulSoup\n",
    "import time\n",
    "import re\n",
    "from tqdm import tqdm\n",
    "from tqdm import tqdm_notebook\n",
    "import pandas as pd"
   ]
  },
  {
   "cell_type": "code",
   "execution_count": 3,
   "metadata": {
    "colab": {},
    "colab_type": "code",
    "id": "wPK1lfrtQmvH"
   },
   "outputs": [],
   "source": [
    "response = requests.get(\"https://newspunch.com/category/news/us/\")\n",
    "soup = BeautifulSoup(response.text, 'html.parser')\n"
   ]
  },
  {
   "cell_type": "code",
   "execution_count": 4,
   "metadata": {
    "colab": {},
    "colab_type": "code",
    "id": "wln5yGqSQmvJ"
   },
   "outputs": [],
   "source": [
    "\n",
    "link = soup.find_all('a')\n",
    "\n",
    "\n"
   ]
  },
  {
   "cell_type": "code",
   "execution_count": 4,
   "metadata": {
    "colab": {},
    "colab_type": "code",
    "id": "6sU0YhouQmvM"
   },
   "outputs": [],
   "source": [
    "#within each of the articles, need to find the url link\n",
    "def getLinksURLFromPage(link):\n",
    "    response = requests.get(link)\n",
    "    soup = BeautifulSoup(response.text, 'html.parser')\n",
    "    articles = soup.find_all('article')\n",
    "    links = []\n",
    "    for article in articles:\n",
    "        links.append(article.find('a').get('href'))\n",
    "    return links\n",
    "\n",
    "\n",
    "\"\"\"\n",
    "Input: Link main URL page (str)\n",
    "Output: Number of pages for the website (int)\n",
    "\"\"\"\n",
    "def getNumPages(head_page_link):\n",
    "    #have to find a with a class \"page-numbers\"\n",
    "    root = requests.get(head_page_link)\n",
    "    soup_text_page = BeautifulSoup(root.text, 'html.parser')\n",
    "    string_page_numbers = soup_text_page.find_all(\"a\", class_ = \"page-numbers\")\n",
    "    links = []\n",
    "    for soup_item in string_page_numbers:\n",
    "        link = soup_item.get(\"href\")\n",
    "        links.append(link)\n",
    "\n",
    "    page_numbers = []\n",
    "    \n",
    "    for link in tqdm(links):\n",
    "        numbers = re.findall(r'[0-9]+', link)\n",
    "        if(len(numbers) == 0): continue\n",
    "        else:\n",
    "            numPagesList = re.findall(r'[0-9]+', link)\n",
    "            num_pages = numPagesList[0]\n",
    "            page_numbers.append(int(num_pages))\n",
    "        \n",
    "    max_pages = max(page_numbers)\n",
    "\n",
    "    return max_pages\n",
    "    \n",
    "    \n",
    "    "
   ]
  },
  {
   "cell_type": "code",
   "execution_count": 5,
   "metadata": {
    "colab": {
     "base_uri": "https://localhost:8080/",
     "height": 34
    },
    "colab_type": "code",
    "id": "x35102_JQmvO",
    "outputId": "3b000e80-e1d1-4595-f63f-02a49dc73658"
   },
   "outputs": [
    {
     "name": "stderr",
     "output_type": "stream",
     "text": [
      "100%|██████████| 3/3 [00:00<00:00, 11672.46it/s]\n"
     ]
    }
   ],
   "source": [
    "# links = getLinksURL(\"https://newspunch.com/category/news/us/\")\n",
    "max_pages = getNumPages(\"https://newspunch.com/category/news/us\")\n",
    "\n",
    "base_url = \"https://newspunch.com/category/news/us\"\n",
    "\n",
    "def get_all_articles_from_domain(base_url, num_pages):\n",
    "    \n",
    "    all_urls = []\n",
    "    for page_num in tqdm(range(1,num_pages+1)):\n",
    "        all_urls.append(base_url + \"/page/\" +str(page_num))\n",
    "        \n",
    "    content = []\n",
    "    for url in tqdm(all_urls):\n",
    "      list_links_page = getLinksURLFromPage(url)\n",
    "      for link in list_links_page:\n",
    "        content.append(get_content(link))\n",
    "    return content\n",
    "        \n",
    "    \n",
    "\"\"\"\n",
    "Input: Url for an article (str)\n",
    "Output: Content of the article (dictionary)\n",
    "Output: Dictionary (keys: title, content, author) correspond to values(title of article , content of article , author of article) (TYPE: strs)\n",
    "\"\"\"\n",
    "def get_content(url_article):\n",
    "    \n",
    "    result_content = dict()\n",
    "\n",
    "    \n",
    "    \n",
    "    request_text = requests.get(url_article).text\n",
    "    content = BeautifulSoup(request_text, \"html.parser\")\n",
    "    \n",
    "    #get the title of the article\n",
    "    title_article = content.find(\"h1\", class_ = \"entry-title\")\n",
    "    if(title_article != None): \n",
    "        result_content[\"title\"] = title_article.get_text()\n",
    "    else:\n",
    "        result_content[\"title\"] = np.nan\n",
    "    \n",
    "    #getting the author of the article\n",
    "    author = content.find(\"a\", class_ = \"fn\")\n",
    "    if(author != None): \n",
    "        result_content[\"author\"] = author.get_text()\n",
    "    else:\n",
    "        result_content[\"author\"] = np.nan\n",
    "        \n",
    "    #getting the date of the article\n",
    "    date = content.find(\"span\", class_ = \"entry-meta-date updated\")\n",
    "    if(date != None):\n",
    "        date_result = date.find(\"a\")\n",
    "        if(date_result != None): date_result = date_result.get_text()\n",
    "        result_content[\"date\"] = date_result\n",
    "    \n",
    "    #get the comments\n",
    "    comments = content.find(\"span\", class_ = \"entry-meta-comments\")\n",
    "    if(comments != None):\n",
    "        comment = comments.find(\"a\")\n",
    "        num_comments = 0\n",
    "        if(comment != None): num_comments = comment.get_text()\n",
    "        result_content[\"num_comments\"] = num_comments\n",
    "    \n",
    "    \n",
    "    #get the content of the article \n",
    "    text_data = content.find('div', class_='entry-content clearfix')\n",
    "    if(text_data != None):\n",
    "        #find all the paragarphs with the text\n",
    "        paragraphs = text_data.find_all(\"p\")\n",
    "        text = \"\"\n",
    "        if(paragraphs != None):\n",
    "            for body_data in paragraphs:\n",
    "                if(body_data != None):  text += body_data.get_text()\n",
    "        result_content[\"content\"] = text\n",
    "        \n",
    "    \n",
    "    #get the snippet of the article \n",
    "    \n",
    "    snippet = content.find(\"div\", class_ = \"entry-content clearfix\")\n",
    "    if(snippet != None):\n",
    "        text = snippet.find(\"p\")\n",
    "        num_comments = 0\n",
    "        if(text != None): \n",
    "            data = text.find(\"strong\")\n",
    "            result = \"\"\n",
    "            if(data != None): \n",
    "                result = data.get_text()\n",
    "            result_content[\"snippet\"] = result\n",
    "    return result_content"
   ]
  },
  {
   "cell_type": "code",
   "execution_count": 9,
   "metadata": {
    "colab": {
     "base_uri": "https://localhost:8080/",
     "height": 98,
     "referenced_widgets": [
      "b9011663e0cc4d1d8628e058e9133324",
      "5a109c1faa34485ebffac108fe6b8970",
      "7a2fabdcd05641d09b9466c36778e155",
      "f41b30d706f343f3bc4edd694c016580",
      "4a2ac8e416c644c28cb91cd6f508d08a",
      "e392a16dc4534241a860250b77df539b",
      "7e78fda130a04a8385dbfd743fab0e5f",
      "911cfdf7ebc842b18555e77ab0b2eba3",
      "5287ef1f23c64a7d8c070a55f581b701",
      "ca312116903941f997875eed67d47aff",
      "9518b6f813ca43f8a2a16e65f4fa8682",
      "9be13fed000f45e5bdc59d9e5aed588b",
      "be505f48d0f341cba52d61cd04ad359e",
      "faef40cbc265421682dd752de6a20825",
      "30e4736222464ed083796f8c4491d87c",
      "5a61afd415974eaa9d5418991b0170fd"
     ]
    },
    "colab_type": "code",
    "id": "ln03Y093Z8XK",
    "outputId": "17925439-5e0b-4ce0-be81-b6c09caf9352"
   },
   "outputs": [
    {
     "name": "stderr",
     "output_type": "stream",
     "text": [
      "100%|██████████| 3/3 [00:00<00:00, 17427.86it/s]\n",
      "100%|██████████| 500/500 [00:00<00:00, 726663.89it/s]\n",
      "100%|██████████| 500/500 [1:05:37<00:00,  7.87s/it]\n"
     ]
    }
   ],
   "source": [
    "url = \"https://newspunch.com/category/news/us\"\n",
    "numPages = getNumPages(url)\n",
    "article_content = get_all_articles_from_domain(url, 500)\n"
   ]
  },
  {
   "cell_type": "code",
   "execution_count": 7,
   "metadata": {
    "colab": {
     "base_uri": "https://localhost:8080/",
     "height": 34
    },
    "colab_type": "code",
    "id": "tbk7t_z8eErJ",
    "outputId": "ae79c678-157e-49cf-dd4f-d4f14622df1e"
   },
   "outputs": [
    {
     "name": "stdout",
     "output_type": "stream",
     "text": [
      "100\n"
     ]
    }
   ],
   "source": [
    "print(len(article_content))"
   ]
  },
  {
   "cell_type": "code",
   "execution_count": 30,
   "metadata": {
    "colab": {
     "base_uri": "https://localhost:8080/",
     "height": 49,
     "referenced_widgets": [
      "39b9a910886842669a0e90175a19e03c",
      "9aa2732838514e25b3eb2b10d30c64c1",
      "7e3ada7b797543e98c486b9941f49eb3",
      "9134ee9ad92d42029197aae8b7c516ba",
      "f33821b1e9d34a8aa669a883ebf2445c",
      "f879231f5b354bbba398ce34741a23e3",
      "3ef09328c52447d4afecb651f001acda",
      "6b937fdd578446709f077b62b034124f"
     ]
    },
    "colab_type": "code",
    "id": "HOPq7F0gXjU-",
    "outputId": "4984099d-7661-4d2b-d856-7cdd5a30b25d"
   },
   "outputs": [
    {
     "ename": "NameError",
     "evalue": "name 'article_content' is not defined",
     "output_type": "error",
     "traceback": [
      "\u001b[0;31m---------------------------------------------------------------------------\u001b[0m",
      "\u001b[0;31mNameError\u001b[0m                                 Traceback (most recent call last)",
      "\u001b[0;32m<ipython-input-30-185359cff090>\u001b[0m in \u001b[0;36m<module>\u001b[0;34m\u001b[0m\n\u001b[1;32m     27\u001b[0m \u001b[0;34m\u001b[0m\u001b[0m\n\u001b[1;32m     28\u001b[0m \u001b[0;34m\u001b[0m\u001b[0m\n\u001b[0;32m---> 29\u001b[0;31m \u001b[0msave_data\u001b[0m\u001b[0;34m(\u001b[0m\u001b[0marticle_content\u001b[0m\u001b[0;34m)\u001b[0m\u001b[0;34m\u001b[0m\u001b[0;34m\u001b[0m\u001b[0m\n\u001b[0m",
      "\u001b[0;31mNameError\u001b[0m: name 'article_content' is not defined"
     ]
    }
   ],
   "source": [
    "#creates a csv file from the article data\n",
    "def save_data(article):\n",
    "           \n",
    "    titles = []\n",
    "    author = []\n",
    "    content = []\n",
    "    snippet = []\n",
    "    num_comments = []\n",
    "    date = []\n",
    "    label = []\n",
    "    \n",
    "      \n",
    "    for i in tqdm(range(len(article))):\n",
    "        dictionary = article[i]\n",
    "        if(type(dictionary[\"snippet\"]) != str):\n",
    "            continue\n",
    "            \n",
    "        titles.append(dictionary[\"title\"])\n",
    "        author.append(dictionary[\"author\"])\n",
    "        content.append(dictionary[\"content\"])\n",
    "        snippet.append(dictionary[\"snippet\"])\n",
    "        date.append(dictionary[\"date\"])\n",
    "        num_comments.append(dictionary[\"num_comments\"])\n",
    "        label.append(0)\n",
    "    df = pd.DataFrame({'title': titles, 'content': content, 'date': date, 'snippet': snippet, 'author': author, \"number of comments\": num_comments, \"label\": label})\n",
    "    df.to_csv('FAKE_news_punch_data.csv')\n",
    "    \n",
    "\n",
    "save_data(article_content)"
   ]
  },
  {
   "cell_type": "code",
   "execution_count": null,
   "metadata": {
    "colab": {
     "base_uri": "https://localhost:8080/",
     "height": 830,
     "referenced_widgets": [
      "b36f85ac9f3c4fc4ae7515c1a8837737",
      "75f0d97bfdfb48b6a0ec7524cbff4883",
      "c38137edc9274e8c897e26c96b3c50d9",
      "8631098e69cb4454a390d46eb1f6b537",
      "cd5894c0d8ef4912aa86e5789212a51b",
      "840c077c648e40968c72f5dac980033e",
      "807247b7948345f58300bdafc21059c8",
      "9e51a1f55cfd4b8bb761744cb736d71e",
      "293a1a827aff45c08d76ad4fbff5e813",
      "19f160d2aa86435b86d4f2f31d26091d",
      "4d6933939a734375800234e2688bcdd7",
      "fbaebddc8f7c43eba2c8a76dc2ffa9bb",
      "7494b0a0b904404c9839756a37d6d9f1",
      "9a30c592805f4e4599098d00f18ccbde",
      "bf0dc60339514760ae60582601e339ff",
      "ec066e211d664179960f737abdfd70f6"
     ]
    },
    "colab_type": "code",
    "id": "TtrFxyu2QmvR",
    "outputId": "94810a38-947d-4a2c-ccb2-8e5099111f06"
   },
   "outputs": [],
   "source": []
  },
  {
   "cell_type": "markdown",
   "metadata": {
    "colab": {},
    "colab_type": "code",
    "id": "xgFTN_5WQmvV",
    "outputId": "22e3f783-8774-4766-e257-ff7381fa6ee2"
   },
   "source": [
    "## FAKE NEWS REDDIT\n",
    "Used this website: https://medium.com/@RareLoot/using-pushshifts-api-to-extract-reddit-submissions-fb517b286563"
   ]
  },
  {
   "cell_type": "code",
   "execution_count": 5,
   "metadata": {
    "colab": {},
    "colab_type": "code",
    "id": "x1U8Kp9AQmvX"
   },
   "outputs": [],
   "source": [
    "import pandas as pd\n",
    "import requests\n",
    "import json\n",
    "import csv\n",
    "import time\n",
    "import datetime\n",
    "from psaw import PushshiftAPI\n"
   ]
  },
  {
   "cell_type": "code",
   "execution_count": 6,
   "metadata": {},
   "outputs": [],
   "source": [
    "\n",
    "def gatherDataOnion():\n",
    "    # Instantiate \n",
    "    api = PushshiftAPI()\n",
    "\n",
    "    # Create list of scraped data\n",
    "    scrape_list = list(api.search_submissions(subreddit=\"theonion\", filter=['title', 'author', 'subreddit_subscribers', 'score', 'domain', 'created_utc'],\n",
    "                                limit=10000))\n",
    "    result_dictionary = dict()\n",
    "    title = []\n",
    "    author = []\n",
    "    subscribers = []\n",
    "    date = []\n",
    "    score = []\n",
    "    domain_source = []\n",
    "    \n",
    "    for submission in tqdm(scrape_list,position = 0):\n",
    "\n",
    "        original_source = submission[2]\n",
    "        domain_source.append(original_source)\n",
    "        \n",
    "        \n",
    "        title_submission = submission[5]\n",
    "        title.append(title_submission)\n",
    "        \n",
    "        author_submission = submission[0]\n",
    "        author.append(author_submission)\n",
    "        \n",
    "        \n",
    "        \n",
    "        subscriber_submission = submission[4]\n",
    "        subscribers.append(subscriber_submission)\n",
    "                \n",
    "        date_created = submission[1]\n",
    "        date.append(date_created)\n",
    "        \n",
    "        \n",
    "        score_submission = submission[3]\n",
    "        score.append(score_submission)\n",
    "        \n",
    "        \n",
    "    label = [0] * len(title)\n",
    "    df = pd.DataFrame({'title': title, 'author': author, 'date': date, 'score': score, 'subscribers':subscribers,'source':domain_source, 'label': label })\n",
    "    df.to_csv('better_fake_onion.csv')\n",
    "\n",
    "\n"
   ]
  },
  {
   "cell_type": "code",
   "execution_count": 32,
   "metadata": {},
   "outputs": [],
   "source": [
    "\n",
    "def gatherDataReal():\n",
    "    # Instantiate \n",
    "    api = PushshiftAPI()\n",
    "\n",
    "    # Create list of scraped data\n",
    "    scrape_list = list(api.search_submissions(subreddit=\"nottheonion\", filter=['title', 'author', 'subreddit_subscribers', 'score', 'domain', 'created_utc'],\n",
    "                                limit=20000))\n",
    "    print(scrape_list[0])\n",
    "    result_dictionary = dict()\n",
    "    title = []\n",
    "    author = []\n",
    "    subscribers = []\n",
    "    date = []\n",
    "    score = []\n",
    "    domain_source = []\n",
    "    \n",
    "    for submission in tqdm(scrape_list,position = 0):\n",
    "\n",
    "        original_source = submission[2]\n",
    "        domain_source.append(original_source)\n",
    "        \n",
    "        \n",
    "        title_submission = submission[5]\n",
    "        title.append(title_submission)\n",
    "        \n",
    "        author_submission = submission[0]\n",
    "        author.append(author_submission)\n",
    "        \n",
    "        \n",
    "        \n",
    "        subscriber_submission = submission[4]\n",
    "        subscribers.append(subscriber_submission)\n",
    "                \n",
    "        date_created = submission[1]\n",
    "        date.append(date_created)\n",
    "        \n",
    "        \n",
    "        score_submission = submission[3]\n",
    "        score.append(score_submission)\n",
    "        \n",
    "    label = [1] * len(title)\n",
    "    \n",
    "    df = pd.DataFrame({'title': title, 'author': author, 'date': date, 'score': score, 'subscribers':subscribers,'source':domain_source, 'label': label })\n",
    "    df.dropna()\n",
    "    df.to_csv('real_onion_good.csv')\n",
    "\n",
    "\n"
   ]
  },
  {
   "cell_type": "code",
   "execution_count": 22,
   "metadata": {},
   "outputs": [
    {
     "name": "stderr",
     "output_type": "stream",
     "text": [
      "100%|██████████| 10000/10000 [00:00<00:00, 910064.22it/s]\n"
     ]
    }
   ],
   "source": [
    "gatherDataOnion()"
   ]
  },
  {
   "cell_type": "code",
   "execution_count": 33,
   "metadata": {},
   "outputs": [
    {
     "name": "stderr",
     "output_type": "stream",
     "text": [
      "100%|██████████| 20000/20000 [00:00<00:00, 901584.00it/s]"
     ]
    },
    {
     "name": "stdout",
     "output_type": "stream",
     "text": [
      "submission(author='Bittah_Genius__c', created_utc=1575559272, domain='ktbs.com', score=1, subreddit_subscribers=16038190, title=\"Pinterest and The Knot take a stand against 'plantation weddings'\", created=1575577272.0, d_={'author': 'Bittah_Genius__c', 'created_utc': 1575559272, 'domain': 'ktbs.com', 'score': 1, 'subreddit_subscribers': 16038190, 'title': \"Pinterest and The Knot take a stand against 'plantation weddings'\", 'created': 1575577272.0})\n"
     ]
    },
    {
     "name": "stderr",
     "output_type": "stream",
     "text": [
      "\n"
     ]
    }
   ],
   "source": [
    "gatherDataReal()"
   ]
  },
  {
   "cell_type": "code",
   "execution_count": 3,
   "metadata": {},
   "outputs": [],
   "source": [
    "import datetime"
   ]
  },
  {
   "cell_type": "code",
   "execution_count": 22,
   "metadata": {},
   "outputs": [],
   "source": [
    "dataframe_onion = pd.read_csv('better_fake_onion.csv')\n",
    "dataframe_onion['timestamp'] = pd.to_datetime(dataframe_onion['date'], unit='s')\n",
    "\n",
    "dataframe_onion_real = pd.read_csv('real_onion_good.csv')\n",
    "dataframe_onion_real['timestamp'] = pd.to_datetime(dataframe_onion_real['date'], unit='s')"
   ]
  },
  {
   "cell_type": "code",
   "execution_count": 23,
   "metadata": {},
   "outputs": [
    {
     "name": "stdout",
     "output_type": "stream",
     "text": [
      "TheOnion start date: 2017-09-02 13:35:05\n",
      "TheOnion end date: 2019-12-05 02:09:38\n"
     ]
    }
   ],
   "source": [
    "print(\"TheOnion start date:\", dataframe_onion['timestamp'].min())\n",
    "print(\"TheOnion end date:\", dataframe_onion['timestamp'].max())"
   ]
  },
  {
   "cell_type": "code",
   "execution_count": 24,
   "metadata": {},
   "outputs": [
    {
     "name": "stdout",
     "output_type": "stream",
     "text": [
      "TheOnion start date: 2019-08-20 12:48:00\n",
      "TheOnion end date: 2019-12-05 14:55:52\n"
     ]
    }
   ],
   "source": [
    "print(\"TheOnion start date:\", dataframe_onion_real['timestamp'].min())\n",
    "print(\"TheOnion end date:\", dataframe_onion_real['timestamp'].max())"
   ]
  },
  {
   "cell_type": "code",
   "execution_count": 18,
   "metadata": {},
   "outputs": [],
   "source": [
    "from textblob import TextBlob\n",
    "import matplotlib.dates as mdates\n"
   ]
  },
  {
   "cell_type": "code",
   "execution_count": 11,
   "metadata": {},
   "outputs": [],
   "source": [
    "#X axis\n",
    "\n",
    "time = list(dataframe_onion['timestamp'])\n"
   ]
  },
  {
   "cell_type": "code",
   "execution_count": 12,
   "metadata": {},
   "outputs": [
    {
     "name": "stderr",
     "output_type": "stream",
     "text": [
      "100%|██████████| 10000/10000 [00:02<00:00, 4266.68it/s]\n"
     ]
    }
   ],
   "source": [
    "#Y AXIS (sent analysis)\n",
    "title_list = dataframe_onion[\"title\"]\n",
    "sentimentAxis = []\n",
    "for i in tqdm(range(len(dataframe_onion[\"title\"])), position = 0):\n",
    "    text = title_list[i]\n",
    "    analysis = TextBlob(text)\n",
    "    sentiment = analysis.sentiment\n",
    "    sentimentAxis.append(sentiment)"
   ]
  },
  {
   "cell_type": "code",
   "execution_count": 27,
   "metadata": {},
   "outputs": [
    {
     "data": {
      "text/plain": [
       "(array([0, 2, 1]), array([0, 1, 2, 3]))"
      ]
     },
     "execution_count": 27,
     "metadata": {},
     "output_type": "execute_result"
    }
   ],
   "source": [
    "np.histogram([1, 2, 1], bins=[0, 1, 2, 3])"
   ]
  },
  {
   "cell_type": "code",
   "execution_count": 30,
   "metadata": {},
   "outputs": [
    {
     "name": "stderr",
     "output_type": "stream",
     "text": [
      "100%|██████████| 20000/20000 [00:04<00:00, 4232.31it/s]\n"
     ]
    },
    {
     "data": {
      "text/plain": [
       "Text(0.5, 1.0, 'Real News Sentiment Analysis Over Time')"
      ]
     },
     "execution_count": 30,
     "metadata": {},
     "output_type": "execute_result"
    },
    {
     "data": {
      "image/png": "[encoded data removed]",
      "text/plain": [
       "<Figure size 432x288 with 1 Axes>"
      ]
     },
     "metadata": {
      "needs_background": "light"
     },
     "output_type": "display_data"
    }
   ],
   "source": [
    "#REAL NEWS DATASET\n",
    "time_real = list(dataframe_onion_real['timestamp'])\n",
    "title_list = dataframe_onion_real[\"title\"]\n",
    "sentimentAxisReal = []\n",
    "for i in tqdm(range(len(dataframe_onion_real[\"title\"])), position = 0):\n",
    "    text = title_list[i]\n",
    "    analysis = TextBlob(text)\n",
    "    sentiment = analysis.sentiment\n",
    "    sentimentAxisReal.append(sentiment)\n",
    "    \n",
    "plt.plot(time_real,sentimentAxisReal)\n",
    "# beautify the x-labels\n",
    "plt.gcf().autofmt_xdate()\n",
    "myFmt = mdates.DateFormatter('%D:%Y')\n",
    "plt.gca().xaxis.set_major_formatter(myFmt)\n",
    "plt.title('Real News Sentiment Analysis Over Time')\n"
   ]
  },
  {
   "cell_type": "code",
   "execution_count": 31,
   "metadata": {},
   "outputs": [
    {
     "data": {
      "text/plain": [
       "Text(0.5, 1.0, 'Fake News Sentiment Analysis Over Time')"
      ]
     },
     "execution_count": 31,
     "metadata": {},
     "output_type": "execute_result"
    },
    {
     "data": {
      "image/png": "[encoded data removed]",
      "text/plain": [
       "<Figure size 432x288 with 1 Axes>"
      ]
     },
     "metadata": {
      "needs_background": "light"
     },
     "output_type": "display_data"
    }
   ],
   "source": [
    "plt.plot(time,sentimentAxis)\n",
    "\n",
    "# beautify the x-labels\n",
    "plt.gcf().autofmt_xdate()\n",
    "myFmt = mdates.DateFormatter('%D:%Y')\n",
    "plt.gca().xaxis.set_major_formatter(myFmt)\n",
    "plt.title('Fake News Sentiment Analysis Over Time')\n"
   ]
  },
  {
   "cell_type": "code",
   "execution_count": null,
   "metadata": {},
   "outputs": [],
   "source": []
  },
  {
   "cell_type": "code",
   "execution_count": null,
   "metadata": {},
   "outputs": [],
   "source": []
  },
  {
   "cell_type": "code",
   "execution_count": null,
   "metadata": {},
   "outputs": [],
   "source": []
  },
  {
   "cell_type": "code",
   "execution_count": null,
   "metadata": {},
   "outputs": [],
   "source": []
  },
  {
   "cell_type": "code",
   "execution_count": null,
   "metadata": {},
   "outputs": [],
   "source": []
  },
  {
   "cell_type": "code",
   "execution_count": null,
   "metadata": {},
   "outputs": [],
   "source": []
  },
  {
   "cell_type": "code",
   "execution_count": null,
   "metadata": {},
   "outputs": [],
   "source": []
  },
  {
   "cell_type": "code",
   "execution_count": null,
   "metadata": {},
   "outputs": [],
   "source": []
  },
  {
   "cell_type": "code",
   "execution_count": null,
   "metadata": {},
   "outputs": [],
   "source": []
  },
  {
   "cell_type": "code",
   "execution_count": null,
   "metadata": {},
   "outputs": [],
   "source": []
  },
  {
   "cell_type": "code",
   "execution_count": null,
   "metadata": {},
   "outputs": [],
   "source": []
  },
  {
   "cell_type": "code",
   "execution_count": null,
   "metadata": {},
   "outputs": [],
   "source": []
  },
  {
   "cell_type": "code",
   "execution_count": null,
   "metadata": {},
   "outputs": [],
   "source": []
  },
  {
   "cell_type": "code",
   "execution_count": null,
   "metadata": {},
   "outputs": [],
   "source": []
  },
  {
   "cell_type": "code",
   "execution_count": null,
   "metadata": {},
   "outputs": [],
   "source": []
  },
  {
   "cell_type": "code",
   "execution_count": null,
   "metadata": {},
   "outputs": [],
   "source": []
  },
  {
   "cell_type": "code",
   "execution_count": null,
   "metadata": {},
   "outputs": [],
   "source": []
  },
  {
   "cell_type": "code",
   "execution_count": null,
   "metadata": {},
   "outputs": [],
   "source": [
    "#FOR CLEANING THE DATA "
   ]
  },
  {
   "cell_type": "code",
   "execution_count": 5,
   "metadata": {},
   "outputs": [
    {
     "name": "stdout",
     "output_type": "stream",
     "text": [
      "4933\n"
     ]
    }
   ],
   "source": [
    "fake_news_data = pd.read_csv('FAKE_news_punch_data.csv')\n",
    "fake_news_data.dropna(inplace = True)\n",
    "print(len(fake_news_data))\n",
    "\n"
   ]
  },
  {
   "cell_type": "code",
   "execution_count": 21,
   "metadata": {},
   "outputs": [],
   "source": [
    "\"\"\"\n",
    "Input: Takes in a list of the content data\n",
    "Output: Cleans the text data\n",
    "\"\"\"\n",
    "\n",
    "#DROP ROWS WITH NANS \n",
    "\n",
    "def clean_data(orig_data):\n",
    "    \n",
    "    new_content = []\n",
    "    stringPunctuation = string.punctuation\n",
    "    punctuation = re.compile(\"[\" + stringPunctuation + \"]\")\n",
    "    stop_word = set(stopwords.words('english')) \n",
    "    \n",
    "    for article in tqdm(orig_data,position = 0):\n",
    "        \n",
    "                                 \n",
    "        #in order to effectively use regular expressions for punctuation, we can translate the string punctuation into a regular expressions compilation\n",
    "\n",
    "        #replace apostrophies with empty string\n",
    "        apostrophy = re.compile(\"[']\")\n",
    "        if(type(article) != str):\n",
    "            print(article)\n",
    "            print(type(article))\n",
    "        article = apostrophy.sub(\"\",article)\n",
    "\n",
    "        #replaces the rest of the punctuations that strip did not get with spaces\n",
    "        article = punctuation.sub(\" \",article)    \n",
    "\n",
    "\n",
    "\n",
    "        #remove punctuation\n",
    "        stripped_punc = article.strip(stringPunctuation)\n",
    "        #replaces the rest of the punctuations that strip did not get with spaces\n",
    "        article =  punctuation.sub(\" \",article)\n",
    "        article = article.lower()\n",
    "        new_article = []\n",
    "        #tokenize words\n",
    "        tokenized = nltk.tokenize.word_tokenize(article)\n",
    "        new_article = []\n",
    "        #remove stopwords and extra punctuation\n",
    "        for word in tokenized:\n",
    "            if((word not in stop_word) and (word not in stripped_punc)):\n",
    "                new_article.append(word)\n",
    "\n",
    "        new_content.append(new_article)\n",
    "    return new_content"
   ]
  },
  {
   "cell_type": "code",
   "execution_count": 22,
   "metadata": {},
   "outputs": [
    {
     "name": "stderr",
     "output_type": "stream",
     "text": [
      "100%|██████████| 4933/4933 [00:01<00:00, 2636.43it/s]\n",
      "100%|██████████| 4933/4933 [00:00<00:00, 12236.63it/s]\n",
      "100%|██████████| 4933/4933 [00:00<00:00, 10434.12it/s]\n"
     ]
    }
   ],
   "source": [
    "new_content = clean_data(fake_news_data[\"content\"])\n",
    "new_snippet = clean_data(fake_news_data[\"snippet\"])\n",
    "new_title = clean_data(fake_news_data[\"title\"])"
   ]
  },
  {
   "cell_type": "code",
   "execution_count": 12,
   "metadata": {},
   "outputs": [
    {
     "name": "stderr",
     "output_type": "stream",
     "text": [
      "IOPub data rate exceeded.\n",
      "The notebook server will temporarily stop sending output\n",
      "to the client in order to avoid crashing it.\n",
      "To change this limit, set the config variable\n",
      "`--NotebookApp.iopub_data_rate_limit`.\n",
      "\n",
      "Current values:\n",
      "NotebookApp.iopub_data_rate_limit=1000000.0 (bytes/sec)\n",
      "NotebookApp.rate_limit_window=3.0 (secs)\n",
      "\n"
     ]
    }
   ],
   "source": [
    "#all strings\n",
    "temp_list = []\n",
    "for content in (fake_news_data[\"content\"]):\n",
    "    temp_list.append(content)\n",
    "print(len(temp_list))\n",
    "new_string = \" \".join(temp_list)\n",
    "for word in new_string:\n",
    "    print(word)\n",
    "#if(word not in stop_word and word not in stripped_punc):\n",
    "#    print(word)"
   ]
  },
  {
   "cell_type": "code",
   "execution_count": 36,
   "metadata": {},
   "outputs": [],
   "source": [
    "labels = [0] * len(fake_news_data)\n",
    "fake_news_data[\"label\"] = labels\n",
    "fake_news_data[\"content\"] = new_string\n"
   ]
  },
  {
   "cell_type": "code",
   "execution_count": 28,
   "metadata": {},
   "outputs": [
    {
     "name": "stderr",
     "output_type": "stream",
     "text": [
      "  0%|          | 0/4933 [00:00<?, ?it/s]"
     ]
    },
    {
     "name": "stdout",
     "output_type": "stream",
     "text": [
      "<class 'str'>\n",
      "['clintons', 'jeffrey', 'epstein', 'new', 'mexico', 'dna', 'bill', 'hillary', 'chelsea', 'white', 'daily', 'mail', 'bill', 'clintons', 'epstein', 'clinton', 'epstein', 'seen', 'dailymailtv', 'wild', 'west', 'american', 'epstein', 'lolita', 'express', 'jared', 'kellogg', 'brice', 'gordon', '–daily', 'mailzerohedge', 'clintons', 'epstein', 'lolita', 'express', 'boeing', 'epstein', 'july', 'kellogg', 'brice', 'gordon', 'clintons', 'epstein', 'brice', 'kellogg', 'brice', 'clintons', 'bill', 'bill', 'western', 'mail', 'kellogg', 'westworld', 'yeah', 'clintons', 'epstein', 'jared', 'kelloggas', 'mail', 'epstein', 'bill', 'clinton', 'upper', 'east', 'monica', 'lewinsky', 'drudge', 'kellogg', 'epstein', 'new', 'mexico', 'november', 'mail', 'epstein', 'kellogg', 'due', 'considering', 'epstein', 'kellogg', 'gordon', 'instead', '–daily', 'mail', 'epstein', 'brice', 'maybe', 'bryce']\n",
      "['clintons', 'jeffrey', 'epstein', 'new', 'mexico', 'dna', 'bill', 'hillary', 'chelsea', 'white', 'd\n"
     ]
    },
    {
     "name": "stderr",
     "output_type": "stream",
     "text": [
      "\n"
     ]
    }
   ],
   "source": [
    "final_article = \"\"\n",
    "for article in tqdm(fake_news_data[\"content\"],position = 0):\n",
    "    temp = \"\".join(article)\n",
    "    print(type(temp))\n",
    "    print(temp)\n",
    "    final_article += \"\".join(article)\n",
    "    break\n",
    "\n",
    "print(final_article[0:100])"
   ]
  },
  {
   "cell_type": "code",
   "execution_count": 28,
   "metadata": {},
   "outputs": [],
   "source": [
    "fake_news_data.content = new_content\n",
    "fake_news_data.snippet = new_snippet\n",
    "fake_news_data.title = new_title\n",
    "\n"
   ]
  },
  {
   "cell_type": "code",
   "execution_count": 41,
   "metadata": {},
   "outputs": [
    {
     "name": "stdout",
     "output_type": "stream",
     "text": [
      "4933\n"
     ]
    }
   ],
   "source": [
    "labels = [0] * len(fake_news_data)\n",
    "fake_news_data[\"label\"] = labels\n",
    "print(len(fake_news_data))"
   ]
  },
  {
   "cell_type": "code",
   "execution_count": 37,
   "metadata": {},
   "outputs": [
    {
     "ename": "KeyboardInterrupt",
     "evalue": "",
     "output_type": "error",
     "traceback": [
      "\u001b[0;31m---------------------------------------------------------------------------\u001b[0m",
      "\u001b[0;31mKeyboardInterrupt\u001b[0m                         Traceback (most recent call last)",
      "\u001b[0;32m<ipython-input-37-7793d1fc69b7>\u001b[0m in \u001b[0;36m<module>\u001b[0;34m\u001b[0m\n\u001b[0;32m----> 1\u001b[0;31m \u001b[0mfake_news_data\u001b[0m\u001b[0;34m.\u001b[0m\u001b[0mto_csv\u001b[0m\u001b[0;34m(\u001b[0m\u001b[0;34m'finally.csv'\u001b[0m\u001b[0;34m)\u001b[0m\u001b[0;34m\u001b[0m\u001b[0;34m\u001b[0m\u001b[0m\n\u001b[0m",
      "\u001b[0;32m~/anaconda3/lib/python3.7/site-packages/pandas/core/generic.py\u001b[0m in \u001b[0;36mto_csv\u001b[0;34m(self, path_or_buf, sep, na_rep, float_format, columns, header, index, index_label, mode, encoding, compression, quoting, quotechar, line_terminator, chunksize, date_format, doublequote, escapechar, decimal)\u001b[0m\n\u001b[1;32m   3226\u001b[0m             \u001b[0mdecimal\u001b[0m\u001b[0;34m=\u001b[0m\u001b[0mdecimal\u001b[0m\u001b[0;34m,\u001b[0m\u001b[0;34m\u001b[0m\u001b[0;34m\u001b[0m\u001b[0m\n\u001b[1;32m   3227\u001b[0m         )\n\u001b[0;32m-> 3228\u001b[0;31m         \u001b[0mformatter\u001b[0m\u001b[0;34m.\u001b[0m\u001b[0msave\u001b[0m\u001b[0;34m(\u001b[0m\u001b[0;34m)\u001b[0m\u001b[0;34m\u001b[0m\u001b[0;34m\u001b[0m\u001b[0m\n\u001b[0m\u001b[1;32m   3229\u001b[0m \u001b[0;34m\u001b[0m\u001b[0m\n\u001b[1;32m   3230\u001b[0m         \u001b[0;32mif\u001b[0m \u001b[0mpath_or_buf\u001b[0m \u001b[0;32mis\u001b[0m \u001b[0;32mNone\u001b[0m\u001b[0;34m:\u001b[0m\u001b[0;34m\u001b[0m\u001b[0;34m\u001b[0m\u001b[0m\n",
      "\u001b[0;32m~/anaconda3/lib/python3.7/site-packages/pandas/io/formats/csvs.py\u001b[0m in \u001b[0;36msave\u001b[0;34m(self)\u001b[0m\n\u001b[1;32m    200\u001b[0m                 \u001b[0mself\u001b[0m\u001b[0;34m.\u001b[0m\u001b[0mwriter\u001b[0m \u001b[0;34m=\u001b[0m \u001b[0mUnicodeWriter\u001b[0m\u001b[0;34m(\u001b[0m\u001b[0mf\u001b[0m\u001b[0;34m,\u001b[0m \u001b[0;34m**\u001b[0m\u001b[0mwriter_kwargs\u001b[0m\u001b[0;34m)\u001b[0m\u001b[0;34m\u001b[0m\u001b[0;34m\u001b[0m\u001b[0m\n\u001b[1;32m    201\u001b[0m \u001b[0;34m\u001b[0m\u001b[0m\n\u001b[0;32m--> 202\u001b[0;31m             \u001b[0mself\u001b[0m\u001b[0;34m.\u001b[0m\u001b[0m_save\u001b[0m\u001b[0;34m(\u001b[0m\u001b[0;34m)\u001b[0m\u001b[0;34m\u001b[0m\u001b[0;34m\u001b[0m\u001b[0m\n\u001b[0m\u001b[1;32m    203\u001b[0m \u001b[0;34m\u001b[0m\u001b[0m\n\u001b[1;32m    204\u001b[0m         \u001b[0;32mfinally\u001b[0m\u001b[0;34m:\u001b[0m\u001b[0;34m\u001b[0m\u001b[0;34m\u001b[0m\u001b[0m\n",
      "\u001b[0;32m~/anaconda3/lib/python3.7/site-packages/pandas/io/formats/csvs.py\u001b[0m in \u001b[0;36m_save\u001b[0;34m(self)\u001b[0m\n\u001b[1;32m    322\u001b[0m                 \u001b[0;32mbreak\u001b[0m\u001b[0;34m\u001b[0m\u001b[0;34m\u001b[0m\u001b[0m\n\u001b[1;32m    323\u001b[0m \u001b[0;34m\u001b[0m\u001b[0m\n\u001b[0;32m--> 324\u001b[0;31m             \u001b[0mself\u001b[0m\u001b[0;34m.\u001b[0m\u001b[0m_save_chunk\u001b[0m\u001b[0;34m(\u001b[0m\u001b[0mstart_i\u001b[0m\u001b[0;34m,\u001b[0m \u001b[0mend_i\u001b[0m\u001b[0;34m)\u001b[0m\u001b[0;34m\u001b[0m\u001b[0;34m\u001b[0m\u001b[0m\n\u001b[0m\u001b[1;32m    325\u001b[0m \u001b[0;34m\u001b[0m\u001b[0m\n\u001b[1;32m    326\u001b[0m     \u001b[0;32mdef\u001b[0m \u001b[0m_save_chunk\u001b[0m\u001b[0;34m(\u001b[0m\u001b[0mself\u001b[0m\u001b[0;34m,\u001b[0m \u001b[0mstart_i\u001b[0m\u001b[0;34m,\u001b[0m \u001b[0mend_i\u001b[0m\u001b[0;34m)\u001b[0m\u001b[0;34m:\u001b[0m\u001b[0;34m\u001b[0m\u001b[0;34m\u001b[0m\u001b[0m\n",
      "\u001b[0;32m~/anaconda3/lib/python3.7/site-packages/pandas/io/formats/csvs.py\u001b[0m in \u001b[0;36m_save_chunk\u001b[0;34m(self, start_i, end_i)\u001b[0m\n\u001b[1;32m    354\u001b[0m         )\n\u001b[1;32m    355\u001b[0m \u001b[0;34m\u001b[0m\u001b[0m\n\u001b[0;32m--> 356\u001b[0;31m         \u001b[0mlibwriters\u001b[0m\u001b[0;34m.\u001b[0m\u001b[0mwrite_csv_rows\u001b[0m\u001b[0;34m(\u001b[0m\u001b[0mself\u001b[0m\u001b[0;34m.\u001b[0m\u001b[0mdata\u001b[0m\u001b[0;34m,\u001b[0m \u001b[0mix\u001b[0m\u001b[0;34m,\u001b[0m \u001b[0mself\u001b[0m\u001b[0;34m.\u001b[0m\u001b[0mnlevels\u001b[0m\u001b[0;34m,\u001b[0m \u001b[0mself\u001b[0m\u001b[0;34m.\u001b[0m\u001b[0mcols\u001b[0m\u001b[0;34m,\u001b[0m \u001b[0mself\u001b[0m\u001b[0;34m.\u001b[0m\u001b[0mwriter\u001b[0m\u001b[0;34m)\u001b[0m\u001b[0;34m\u001b[0m\u001b[0;34m\u001b[0m\u001b[0m\n\u001b[0m",
      "\u001b[0;32mpandas/_libs/writers.pyx\u001b[0m in \u001b[0;36mpandas._libs.writers.write_csv_rows\u001b[0;34m()\u001b[0m\n",
      "\u001b[0;31mKeyboardInterrupt\u001b[0m: "
     ]
    }
   ],
   "source": [
    "fake_news_data.to_csv('finally.csv')\n"
   ]
  },
  {
   "cell_type": "code",
   "execution_count": null,
   "metadata": {},
   "outputs": [],
   "source": []
  }
 ],
 "metadata": {
  "colab": {
   "collapsed_sections": [],
   "name": "updated_shit.ipynb",
   "provenance": []
  },
  "kernelspec": {
   "display_name": "Python 3",
   "language": "python",
   "name": "python3"
  },
  "language_info": {
   "codemirror_mode": {
    "name": "ipython",
    "version": 3
   },
   "file_extension": ".py",
   "mimetype": "text/x-python",
   "name": "python",
   "nbconvert_exporter": "python",
   "pygments_lexer": "ipython3",
   "version": "3.7.4"
  },
  "widgets": {
   "application/vnd.jupyter.widget-state+json": {
    "19f160d2aa86435b86d4f2f31d26091d": {
     "model_module": "@jupyter-widgets/base",
     "model_name": "LayoutModel",
     "state": {
      "_model_module": "@jupyter-widgets/base",
      "_model_module_version": "1.2.0",
      "_model_name": "LayoutModel",
      "_view_count": null,
      "_view_module": "@jupyter-widgets/base",
      "_view_module_version": "1.2.0",
      "_view_name": "LayoutView",
      "align_content": null,
      "align_items": null,
      "align_self": null,
      "border": null,
      "bottom": null,
      "display": null,
      "flex": null,
      "flex_flow": null,
      "grid_area": null,
      "grid_auto_columns": null,
      "grid_auto_flow": null,
      "grid_auto_rows": null,
      "grid_column": null,
      "grid_gap": null,
      "grid_row": null,
      "grid_template_areas": null,
      "grid_template_columns": null,
      "grid_template_rows": null,
      "height": null,
      "justify_content": null,
      "justify_items": null,
      "left": null,
      "margin": null,
      "max_height": null,
      "max_width": null,
      "min_height": null,
      "min_width": null,
      "object_fit": null,
      "object_position": null,
      "order": null,
      "overflow": null,
      "overflow_x": null,
      "overflow_y": null,
      "padding": null,
      "right": null,
      "top": null,
      "visibility": null,
      "width": null
     }
    },
    "293a1a827aff45c08d76ad4fbff5e813": {
     "model_module": "@jupyter-widgets/controls",
     "model_name": "HBoxModel",
     "state": {
      "_dom_classes": [],
      "_model_module": "@jupyter-widgets/controls",
      "_model_module_version": "1.5.0",
      "_model_name": "HBoxModel",
      "_view_count": null,
      "_view_module": "@jupyter-widgets/controls",
      "_view_module_version": "1.5.0",
      "_view_name": "HBoxView",
      "box_style": "",
      "children": [
       "IPY_MODEL_4d6933939a734375800234e2688bcdd7",
       "IPY_MODEL_fbaebddc8f7c43eba2c8a76dc2ffa9bb"
      ],
      "layout": "IPY_MODEL_19f160d2aa86435b86d4f2f31d26091d"
     }
    },
    "30e4736222464ed083796f8c4491d87c": {
     "model_module": "@jupyter-widgets/controls",
     "model_name": "DescriptionStyleModel",
     "state": {
      "_model_module": "@jupyter-widgets/controls",
      "_model_module_version": "1.5.0",
      "_model_name": "DescriptionStyleModel",
      "_view_count": null,
      "_view_module": "@jupyter-widgets/base",
      "_view_module_version": "1.2.0",
      "_view_name": "StyleView",
      "description_width": ""
     }
    },
    "39b9a910886842669a0e90175a19e03c": {
     "model_module": "@jupyter-widgets/controls",
     "model_name": "HBoxModel",
     "state": {
      "_dom_classes": [],
      "_model_module": "@jupyter-widgets/controls",
      "_model_module_version": "1.5.0",
      "_model_name": "HBoxModel",
      "_view_count": null,
      "_view_module": "@jupyter-widgets/controls",
      "_view_module_version": "1.5.0",
      "_view_name": "HBoxView",
      "box_style": "",
      "children": [
       "IPY_MODEL_7e3ada7b797543e98c486b9941f49eb3",
       "IPY_MODEL_9134ee9ad92d42029197aae8b7c516ba"
      ],
      "layout": "IPY_MODEL_9aa2732838514e25b3eb2b10d30c64c1"
     }
    },
    "3ef09328c52447d4afecb651f001acda": {
     "model_module": "@jupyter-widgets/controls",
     "model_name": "DescriptionStyleModel",
     "state": {
      "_model_module": "@jupyter-widgets/controls",
      "_model_module_version": "1.5.0",
      "_model_name": "DescriptionStyleModel",
      "_view_count": null,
      "_view_module": "@jupyter-widgets/base",
      "_view_module_version": "1.2.0",
      "_view_name": "StyleView",
      "description_width": ""
     }
    },
    "4a2ac8e416c644c28cb91cd6f508d08a": {
     "model_module": "@jupyter-widgets/controls",
     "model_name": "ProgressStyleModel",
     "state": {
      "_model_module": "@jupyter-widgets/controls",
      "_model_module_version": "1.5.0",
      "_model_name": "ProgressStyleModel",
      "_view_count": null,
      "_view_module": "@jupyter-widgets/base",
      "_view_module_version": "1.2.0",
      "_view_name": "StyleView",
      "bar_color": null,
      "description_width": ""
     }
    },
    "4d6933939a734375800234e2688bcdd7": {
     "model_module": "@jupyter-widgets/controls",
     "model_name": "IntProgressModel",
     "state": {
      "_dom_classes": [],
      "_model_module": "@jupyter-widgets/controls",
      "_model_module_version": "1.5.0",
      "_model_name": "IntProgressModel",
      "_view_count": null,
      "_view_module": "@jupyter-widgets/controls",
      "_view_module_version": "1.5.0",
      "_view_name": "ProgressView",
      "bar_style": "danger",
      "description": "",
      "description_tooltip": null,
      "layout": "IPY_MODEL_9a30c592805f4e4599098d00f18ccbde",
      "max": 1103,
      "min": 0,
      "orientation": "horizontal",
      "style": "IPY_MODEL_7494b0a0b904404c9839756a37d6d9f1",
      "value": 24
     }
    },
    "5287ef1f23c64a7d8c070a55f581b701": {
     "model_module": "@jupyter-widgets/controls",
     "model_name": "HBoxModel",
     "state": {
      "_dom_classes": [],
      "_model_module": "@jupyter-widgets/controls",
      "_model_module_version": "1.5.0",
      "_model_name": "HBoxModel",
      "_view_count": null,
      "_view_module": "@jupyter-widgets/controls",
      "_view_module_version": "1.5.0",
      "_view_name": "HBoxView",
      "box_style": "",
      "children": [
       "IPY_MODEL_9518b6f813ca43f8a2a16e65f4fa8682",
       "IPY_MODEL_9be13fed000f45e5bdc59d9e5aed588b"
      ],
      "layout": "IPY_MODEL_ca312116903941f997875eed67d47aff"
     }
    },
    "5a109c1faa34485ebffac108fe6b8970": {
     "model_module": "@jupyter-widgets/base",
     "model_name": "LayoutModel",
     "state": {
      "_model_module": "@jupyter-widgets/base",
      "_model_module_version": "1.2.0",
      "_model_name": "LayoutModel",
      "_view_count": null,
      "_view_module": "@jupyter-widgets/base",
      "_view_module_version": "1.2.0",
      "_view_name": "LayoutView",
      "align_content": null,
      "align_items": null,
      "align_self": null,
      "border": null,
      "bottom": null,
      "display": null,
      "flex": null,
      "flex_flow": null,
      "grid_area": null,
      "grid_auto_columns": null,
      "grid_auto_flow": null,
      "grid_auto_rows": null,
      "grid_column": null,
      "grid_gap": null,
      "grid_row": null,
      "grid_template_areas": null,
      "grid_template_columns": null,
      "grid_template_rows": null,
      "height": null,
      "justify_content": null,
      "justify_items": null,
      "left": null,
      "margin": null,
      "max_height": null,
      "max_width": null,
      "min_height": null,
      "min_width": null,
      "object_fit": null,
      "object_position": null,
      "order": null,
      "overflow": null,
      "overflow_x": null,
      "overflow_y": null,
      "padding": null,
      "right": null,
      "top": null,
      "visibility": null,
      "width": null
     }
    },
    "5a61afd415974eaa9d5418991b0170fd": {
     "model_module": "@jupyter-widgets/base",
     "model_name": "LayoutModel",
     "state": {
      "_model_module": "@jupyter-widgets/base",
      "_model_module_version": "1.2.0",
      "_model_name": "LayoutModel",
      "_view_count": null,
      "_view_module": "@jupyter-widgets/base",
      "_view_module_version": "1.2.0",
      "_view_name": "LayoutView",
      "align_content": null,
      "align_items": null,
      "align_self": null,
      "border": null,
      "bottom": null,
      "display": null,
      "flex": null,
      "flex_flow": null,
      "grid_area": null,
      "grid_auto_columns": null,
      "grid_auto_flow": null,
      "grid_auto_rows": null,
      "grid_column": null,
      "grid_gap": null,
      "grid_row": null,
      "grid_template_areas": null,
      "grid_template_columns": null,
      "grid_template_rows": null,
      "height": null,
      "justify_content": null,
      "justify_items": null,
      "left": null,
      "margin": null,
      "max_height": null,
      "max_width": null,
      "min_height": null,
      "min_width": null,
      "object_fit": null,
      "object_position": null,
      "order": null,
      "overflow": null,
      "overflow_x": null,
      "overflow_y": null,
      "padding": null,
      "right": null,
      "top": null,
      "visibility": null,
      "width": null
     }
    },
    "6b937fdd578446709f077b62b034124f": {
     "model_module": "@jupyter-widgets/base",
     "model_name": "LayoutModel",
     "state": {
      "_model_module": "@jupyter-widgets/base",
      "_model_module_version": "1.2.0",
      "_model_name": "LayoutModel",
      "_view_count": null,
      "_view_module": "@jupyter-widgets/base",
      "_view_module_version": "1.2.0",
      "_view_name": "LayoutView",
      "align_content": null,
      "align_items": null,
      "align_self": null,
      "border": null,
      "bottom": null,
      "display": null,
      "flex": null,
      "flex_flow": null,
      "grid_area": null,
      "grid_auto_columns": null,
      "grid_auto_flow": null,
      "grid_auto_rows": null,
      "grid_column": null,
      "grid_gap": null,
      "grid_row": null,
      "grid_template_areas": null,
      "grid_template_columns": null,
      "grid_template_rows": null,
      "height": null,
      "justify_content": null,
      "justify_items": null,
      "left": null,
      "margin": null,
      "max_height": null,
      "max_width": null,
      "min_height": null,
      "min_width": null,
      "object_fit": null,
      "object_position": null,
      "order": null,
      "overflow": null,
      "overflow_x": null,
      "overflow_y": null,
      "padding": null,
      "right": null,
      "top": null,
      "visibility": null,
      "width": null
     }
    },
    "7494b0a0b904404c9839756a37d6d9f1": {
     "model_module": "@jupyter-widgets/controls",
     "model_name": "ProgressStyleModel",
     "state": {
      "_model_module": "@jupyter-widgets/controls",
      "_model_module_version": "1.5.0",
      "_model_name": "ProgressStyleModel",
      "_view_count": null,
      "_view_module": "@jupyter-widgets/base",
      "_view_module_version": "1.2.0",
      "_view_name": "StyleView",
      "bar_color": null,
      "description_width": ""
     }
    },
    "75f0d97bfdfb48b6a0ec7524cbff4883": {
     "model_module": "@jupyter-widgets/base",
     "model_name": "LayoutModel",
     "state": {
      "_model_module": "@jupyter-widgets/base",
      "_model_module_version": "1.2.0",
      "_model_name": "LayoutModel",
      "_view_count": null,
      "_view_module": "@jupyter-widgets/base",
      "_view_module_version": "1.2.0",
      "_view_name": "LayoutView",
      "align_content": null,
      "align_items": null,
      "align_self": null,
      "border": null,
      "bottom": null,
      "display": null,
      "flex": null,
      "flex_flow": null,
      "grid_area": null,
      "grid_auto_columns": null,
      "grid_auto_flow": null,
      "grid_auto_rows": null,
      "grid_column": null,
      "grid_gap": null,
      "grid_row": null,
      "grid_template_areas": null,
      "grid_template_columns": null,
      "grid_template_rows": null,
      "height": null,
      "justify_content": null,
      "justify_items": null,
      "left": null,
      "margin": null,
      "max_height": null,
      "max_width": null,
      "min_height": null,
      "min_width": null,
      "object_fit": null,
      "object_position": null,
      "order": null,
      "overflow": null,
      "overflow_x": null,
      "overflow_y": null,
      "padding": null,
      "right": null,
      "top": null,
      "visibility": null,
      "width": null
     }
    },
    "7a2fabdcd05641d09b9466c36778e155": {
     "model_module": "@jupyter-widgets/controls",
     "model_name": "IntProgressModel",
     "state": {
      "_dom_classes": [],
      "_model_module": "@jupyter-widgets/controls",
      "_model_module_version": "1.5.0",
      "_model_name": "IntProgressModel",
      "_view_count": null,
      "_view_module": "@jupyter-widgets/controls",
      "_view_module_version": "1.5.0",
      "_view_name": "ProgressView",
      "bar_style": "success",
      "description": "",
      "description_tooltip": null,
      "layout": "IPY_MODEL_e392a16dc4534241a860250b77df539b",
      "max": 10,
      "min": 0,
      "orientation": "horizontal",
      "style": "IPY_MODEL_4a2ac8e416c644c28cb91cd6f508d08a",
      "value": 10
     }
    },
    "7e3ada7b797543e98c486b9941f49eb3": {
     "model_module": "@jupyter-widgets/controls",
     "model_name": "IntProgressModel",
     "state": {
      "_dom_classes": [],
      "_model_module": "@jupyter-widgets/controls",
      "_model_module_version": "1.5.0",
      "_model_name": "IntProgressModel",
      "_view_count": null,
      "_view_module": "@jupyter-widgets/controls",
      "_view_module_version": "1.5.0",
      "_view_name": "ProgressView",
      "bar_style": "success",
      "description": "",
      "description_tooltip": null,
      "layout": "IPY_MODEL_f879231f5b354bbba398ce34741a23e3",
      "max": 100,
      "min": 0,
      "orientation": "horizontal",
      "style": "IPY_MODEL_f33821b1e9d34a8aa669a883ebf2445c",
      "value": 100
     }
    },
    "7e78fda130a04a8385dbfd743fab0e5f": {
     "model_module": "@jupyter-widgets/controls",
     "model_name": "DescriptionStyleModel",
     "state": {
      "_model_module": "@jupyter-widgets/controls",
      "_model_module_version": "1.5.0",
      "_model_name": "DescriptionStyleModel",
      "_view_count": null,
      "_view_module": "@jupyter-widgets/base",
      "_view_module_version": "1.2.0",
      "_view_name": "StyleView",
      "description_width": ""
     }
    },
    "807247b7948345f58300bdafc21059c8": {
     "model_module": "@jupyter-widgets/controls",
     "model_name": "DescriptionStyleModel",
     "state": {
      "_model_module": "@jupyter-widgets/controls",
      "_model_module_version": "1.5.0",
      "_model_name": "DescriptionStyleModel",
      "_view_count": null,
      "_view_module": "@jupyter-widgets/base",
      "_view_module_version": "1.2.0",
      "_view_name": "StyleView",
      "description_width": ""
     }
    },
    "840c077c648e40968c72f5dac980033e": {
     "model_module": "@jupyter-widgets/base",
     "model_name": "LayoutModel",
     "state": {
      "_model_module": "@jupyter-widgets/base",
      "_model_module_version": "1.2.0",
      "_model_name": "LayoutModel",
      "_view_count": null,
      "_view_module": "@jupyter-widgets/base",
      "_view_module_version": "1.2.0",
      "_view_name": "LayoutView",
      "align_content": null,
      "align_items": null,
      "align_self": null,
      "border": null,
      "bottom": null,
      "display": null,
      "flex": null,
      "flex_flow": null,
      "grid_area": null,
      "grid_auto_columns": null,
      "grid_auto_flow": null,
      "grid_auto_rows": null,
      "grid_column": null,
      "grid_gap": null,
      "grid_row": null,
      "grid_template_areas": null,
      "grid_template_columns": null,
      "grid_template_rows": null,
      "height": null,
      "justify_content": null,
      "justify_items": null,
      "left": null,
      "margin": null,
      "max_height": null,
      "max_width": null,
      "min_height": null,
      "min_width": null,
      "object_fit": null,
      "object_position": null,
      "order": null,
      "overflow": null,
      "overflow_x": null,
      "overflow_y": null,
      "padding": null,
      "right": null,
      "top": null,
      "visibility": null,
      "width": null
     }
    },
    "8631098e69cb4454a390d46eb1f6b537": {
     "model_module": "@jupyter-widgets/controls",
     "model_name": "HTMLModel",
     "state": {
      "_dom_classes": [],
      "_model_module": "@jupyter-widgets/controls",
      "_model_module_version": "1.5.0",
      "_model_name": "HTMLModel",
      "_view_count": null,
      "_view_module": "@jupyter-widgets/controls",
      "_view_module_version": "1.5.0",
      "_view_name": "HTMLView",
      "description": "",
      "description_tooltip": null,
      "layout": "IPY_MODEL_9e51a1f55cfd4b8bb761744cb736d71e",
      "placeholder": "​",
      "style": "IPY_MODEL_807247b7948345f58300bdafc21059c8",
      "value": "100% 1103/1103 [00:00&lt;00:00, 18424.35it/s]"
     }
    },
    "911cfdf7ebc842b18555e77ab0b2eba3": {
     "model_module": "@jupyter-widgets/base",
     "model_name": "LayoutModel",
     "state": {
      "_model_module": "@jupyter-widgets/base",
      "_model_module_version": "1.2.0",
      "_model_name": "LayoutModel",
      "_view_count": null,
      "_view_module": "@jupyter-widgets/base",
      "_view_module_version": "1.2.0",
      "_view_name": "LayoutView",
      "align_content": null,
      "align_items": null,
      "align_self": null,
      "border": null,
      "bottom": null,
      "display": null,
      "flex": null,
      "flex_flow": null,
      "grid_area": null,
      "grid_auto_columns": null,
      "grid_auto_flow": null,
      "grid_auto_rows": null,
      "grid_column": null,
      "grid_gap": null,
      "grid_row": null,
      "grid_template_areas": null,
      "grid_template_columns": null,
      "grid_template_rows": null,
      "height": null,
      "justify_content": null,
      "justify_items": null,
      "left": null,
      "margin": null,
      "max_height": null,
      "max_width": null,
      "min_height": null,
      "min_width": null,
      "object_fit": null,
      "object_position": null,
      "order": null,
      "overflow": null,
      "overflow_x": null,
      "overflow_y": null,
      "padding": null,
      "right": null,
      "top": null,
      "visibility": null,
      "width": null
     }
    },
    "9134ee9ad92d42029197aae8b7c516ba": {
     "model_module": "@jupyter-widgets/controls",
     "model_name": "HTMLModel",
     "state": {
      "_dom_classes": [],
      "_model_module": "@jupyter-widgets/controls",
      "_model_module_version": "1.5.0",
      "_model_name": "HTMLModel",
      "_view_count": null,
      "_view_module": "@jupyter-widgets/controls",
      "_view_module_version": "1.5.0",
      "_view_name": "HTMLView",
      "description": "",
      "description_tooltip": null,
      "layout": "IPY_MODEL_6b937fdd578446709f077b62b034124f",
      "placeholder": "​",
      "style": "IPY_MODEL_3ef09328c52447d4afecb651f001acda",
      "value": "100% 100/100 [00:00&lt;00:00, 4367.88it/s]"
     }
    },
    "9518b6f813ca43f8a2a16e65f4fa8682": {
     "model_module": "@jupyter-widgets/controls",
     "model_name": "IntProgressModel",
     "state": {
      "_dom_classes": [],
      "_model_module": "@jupyter-widgets/controls",
      "_model_module_version": "1.5.0",
      "_model_name": "IntProgressModel",
      "_view_count": null,
      "_view_module": "@jupyter-widgets/controls",
      "_view_module_version": "1.5.0",
      "_view_name": "ProgressView",
      "bar_style": "success",
      "description": "",
      "description_tooltip": null,
      "layout": "IPY_MODEL_faef40cbc265421682dd752de6a20825",
      "max": 10,
      "min": 0,
      "orientation": "horizontal",
      "style": "IPY_MODEL_be505f48d0f341cba52d61cd04ad359e",
      "value": 10
     }
    },
    "9a30c592805f4e4599098d00f18ccbde": {
     "model_module": "@jupyter-widgets/base",
     "model_name": "LayoutModel",
     "state": {
      "_model_module": "@jupyter-widgets/base",
      "_model_module_version": "1.2.0",
      "_model_name": "LayoutModel",
      "_view_count": null,
      "_view_module": "@jupyter-widgets/base",
      "_view_module_version": "1.2.0",
      "_view_name": "LayoutView",
      "align_content": null,
      "align_items": null,
      "align_self": null,
      "border": null,
      "bottom": null,
      "display": null,
      "flex": null,
      "flex_flow": null,
      "grid_area": null,
      "grid_auto_columns": null,
      "grid_auto_flow": null,
      "grid_auto_rows": null,
      "grid_column": null,
      "grid_gap": null,
      "grid_row": null,
      "grid_template_areas": null,
      "grid_template_columns": null,
      "grid_template_rows": null,
      "height": null,
      "justify_content": null,
      "justify_items": null,
      "left": null,
      "margin": null,
      "max_height": null,
      "max_width": null,
      "min_height": null,
      "min_width": null,
      "object_fit": null,
      "object_position": null,
      "order": null,
      "overflow": null,
      "overflow_x": null,
      "overflow_y": null,
      "padding": null,
      "right": null,
      "top": null,
      "visibility": null,
      "width": null
     }
    },
    "9aa2732838514e25b3eb2b10d30c64c1": {
     "model_module": "@jupyter-widgets/base",
     "model_name": "LayoutModel",
     "state": {
      "_model_module": "@jupyter-widgets/base",
      "_model_module_version": "1.2.0",
      "_model_name": "LayoutModel",
      "_view_count": null,
      "_view_module": "@jupyter-widgets/base",
      "_view_module_version": "1.2.0",
      "_view_name": "LayoutView",
      "align_content": null,
      "align_items": null,
      "align_self": null,
      "border": null,
      "bottom": null,
      "display": null,
      "flex": null,
      "flex_flow": null,
      "grid_area": null,
      "grid_auto_columns": null,
      "grid_auto_flow": null,
      "grid_auto_rows": null,
      "grid_column": null,
      "grid_gap": null,
      "grid_row": null,
      "grid_template_areas": null,
      "grid_template_columns": null,
      "grid_template_rows": null,
      "height": null,
      "justify_content": null,
      "justify_items": null,
      "left": null,
      "margin": null,
      "max_height": null,
      "max_width": null,
      "min_height": null,
      "min_width": null,
      "object_fit": null,
      "object_position": null,
      "order": null,
      "overflow": null,
      "overflow_x": null,
      "overflow_y": null,
      "padding": null,
      "right": null,
      "top": null,
      "visibility": null,
      "width": null
     }
    },
    "9be13fed000f45e5bdc59d9e5aed588b": {
     "model_module": "@jupyter-widgets/controls",
     "model_name": "HTMLModel",
     "state": {
      "_dom_classes": [],
      "_model_module": "@jupyter-widgets/controls",
      "_model_module_version": "1.5.0",
      "_model_name": "HTMLModel",
      "_view_count": null,
      "_view_module": "@jupyter-widgets/controls",
      "_view_module_version": "1.5.0",
      "_view_name": "HTMLView",
      "description": "",
      "description_tooltip": null,
      "layout": "IPY_MODEL_5a61afd415974eaa9d5418991b0170fd",
      "placeholder": "​",
      "style": "IPY_MODEL_30e4736222464ed083796f8c4491d87c",
      "value": "100% 10/10 [01:13&lt;00:00,  8.45s/it]"
     }
    },
    "9e51a1f55cfd4b8bb761744cb736d71e": {
     "model_module": "@jupyter-widgets/base",
     "model_name": "LayoutModel",
     "state": {
      "_model_module": "@jupyter-widgets/base",
      "_model_module_version": "1.2.0",
      "_model_name": "LayoutModel",
      "_view_count": null,
      "_view_module": "@jupyter-widgets/base",
      "_view_module_version": "1.2.0",
      "_view_name": "LayoutView",
      "align_content": null,
      "align_items": null,
      "align_self": null,
      "border": null,
      "bottom": null,
      "display": null,
      "flex": null,
      "flex_flow": null,
      "grid_area": null,
      "grid_auto_columns": null,
      "grid_auto_flow": null,
      "grid_auto_rows": null,
      "grid_column": null,
      "grid_gap": null,
      "grid_row": null,
      "grid_template_areas": null,
      "grid_template_columns": null,
      "grid_template_rows": null,
      "height": null,
      "justify_content": null,
      "justify_items": null,
      "left": null,
      "margin": null,
      "max_height": null,
      "max_width": null,
      "min_height": null,
      "min_width": null,
      "object_fit": null,
      "object_position": null,
      "order": null,
      "overflow": null,
      "overflow_x": null,
      "overflow_y": null,
      "padding": null,
      "right": null,
      "top": null,
      "visibility": null,
      "width": null
     }
    },
    "b36f85ac9f3c4fc4ae7515c1a8837737": {
     "model_module": "@jupyter-widgets/controls",
     "model_name": "HBoxModel",
     "state": {
      "_dom_classes": [],
      "_model_module": "@jupyter-widgets/controls",
      "_model_module_version": "1.5.0",
      "_model_name": "HBoxModel",
      "_view_count": null,
      "_view_module": "@jupyter-widgets/controls",
      "_view_module_version": "1.5.0",
      "_view_name": "HBoxView",
      "box_style": "",
      "children": [
       "IPY_MODEL_c38137edc9274e8c897e26c96b3c50d9",
       "IPY_MODEL_8631098e69cb4454a390d46eb1f6b537"
      ],
      "layout": "IPY_MODEL_75f0d97bfdfb48b6a0ec7524cbff4883"
     }
    },
    "b9011663e0cc4d1d8628e058e9133324": {
     "model_module": "@jupyter-widgets/controls",
     "model_name": "HBoxModel",
     "state": {
      "_dom_classes": [],
      "_model_module": "@jupyter-widgets/controls",
      "_model_module_version": "1.5.0",
      "_model_name": "HBoxModel",
      "_view_count": null,
      "_view_module": "@jupyter-widgets/controls",
      "_view_module_version": "1.5.0",
      "_view_name": "HBoxView",
      "box_style": "",
      "children": [
       "IPY_MODEL_7a2fabdcd05641d09b9466c36778e155",
       "IPY_MODEL_f41b30d706f343f3bc4edd694c016580"
      ],
      "layout": "IPY_MODEL_5a109c1faa34485ebffac108fe6b8970"
     }
    },
    "be505f48d0f341cba52d61cd04ad359e": {
     "model_module": "@jupyter-widgets/controls",
     "model_name": "ProgressStyleModel",
     "state": {
      "_model_module": "@jupyter-widgets/controls",
      "_model_module_version": "1.5.0",
      "_model_name": "ProgressStyleModel",
      "_view_count": null,
      "_view_module": "@jupyter-widgets/base",
      "_view_module_version": "1.2.0",
      "_view_name": "StyleView",
      "bar_color": null,
      "description_width": ""
     }
    },
    "bf0dc60339514760ae60582601e339ff": {
     "model_module": "@jupyter-widgets/controls",
     "model_name": "DescriptionStyleModel",
     "state": {
      "_model_module": "@jupyter-widgets/controls",
      "_model_module_version": "1.5.0",
      "_model_name": "DescriptionStyleModel",
      "_view_count": null,
      "_view_module": "@jupyter-widgets/base",
      "_view_module_version": "1.2.0",
      "_view_name": "StyleView",
      "description_width": ""
     }
    },
    "c38137edc9274e8c897e26c96b3c50d9": {
     "model_module": "@jupyter-widgets/controls",
     "model_name": "IntProgressModel",
     "state": {
      "_dom_classes": [],
      "_model_module": "@jupyter-widgets/controls",
      "_model_module_version": "1.5.0",
      "_model_name": "IntProgressModel",
      "_view_count": null,
      "_view_module": "@jupyter-widgets/controls",
      "_view_module_version": "1.5.0",
      "_view_name": "ProgressView",
      "bar_style": "success",
      "description": "",
      "description_tooltip": null,
      "layout": "IPY_MODEL_840c077c648e40968c72f5dac980033e",
      "max": 1103,
      "min": 0,
      "orientation": "horizontal",
      "style": "IPY_MODEL_cd5894c0d8ef4912aa86e5789212a51b",
      "value": 1103
     }
    },
    "ca312116903941f997875eed67d47aff": {
     "model_module": "@jupyter-widgets/base",
     "model_name": "LayoutModel",
     "state": {
      "_model_module": "@jupyter-widgets/base",
      "_model_module_version": "1.2.0",
      "_model_name": "LayoutModel",
      "_view_count": null,
      "_view_module": "@jupyter-widgets/base",
      "_view_module_version": "1.2.0",
      "_view_name": "LayoutView",
      "align_content": null,
      "align_items": null,
      "align_self": null,
      "border": null,
      "bottom": null,
      "display": null,
      "flex": null,
      "flex_flow": null,
      "grid_area": null,
      "grid_auto_columns": null,
      "grid_auto_flow": null,
      "grid_auto_rows": null,
      "grid_column": null,
      "grid_gap": null,
      "grid_row": null,
      "grid_template_areas": null,
      "grid_template_columns": null,
      "grid_template_rows": null,
      "height": null,
      "justify_content": null,
      "justify_items": null,
      "left": null,
      "margin": null,
      "max_height": null,
      "max_width": null,
      "min_height": null,
      "min_width": null,
      "object_fit": null,
      "object_position": null,
      "order": null,
      "overflow": null,
      "overflow_x": null,
      "overflow_y": null,
      "padding": null,
      "right": null,
      "top": null,
      "visibility": null,
      "width": null
     }
    },
    "cd5894c0d8ef4912aa86e5789212a51b": {
     "model_module": "@jupyter-widgets/controls",
     "model_name": "ProgressStyleModel",
     "state": {
      "_model_module": "@jupyter-widgets/controls",
      "_model_module_version": "1.5.0",
      "_model_name": "ProgressStyleModel",
      "_view_count": null,
      "_view_module": "@jupyter-widgets/base",
      "_view_module_version": "1.2.0",
      "_view_name": "StyleView",
      "bar_color": null,
      "description_width": ""
     }
    },
    "e392a16dc4534241a860250b77df539b": {
     "model_module": "@jupyter-widgets/base",
     "model_name": "LayoutModel",
     "state": {
      "_model_module": "@jupyter-widgets/base",
      "_model_module_version": "1.2.0",
      "_model_name": "LayoutModel",
      "_view_count": null,
      "_view_module": "@jupyter-widgets/base",
      "_view_module_version": "1.2.0",
      "_view_name": "LayoutView",
      "align_content": null,
      "align_items": null,
      "align_self": null,
      "border": null,
      "bottom": null,
      "display": null,
      "flex": null,
      "flex_flow": null,
      "grid_area": null,
      "grid_auto_columns": null,
      "grid_auto_flow": null,
      "grid_auto_rows": null,
      "grid_column": null,
      "grid_gap": null,
      "grid_row": null,
      "grid_template_areas": null,
      "grid_template_columns": null,
      "grid_template_rows": null,
      "height": null,
      "justify_content": null,
      "justify_items": null,
      "left": null,
      "margin": null,
      "max_height": null,
      "max_width": null,
      "min_height": null,
      "min_width": null,
      "object_fit": null,
      "object_position": null,
      "order": null,
      "overflow": null,
      "overflow_x": null,
      "overflow_y": null,
      "padding": null,
      "right": null,
      "top": null,
      "visibility": null,
      "width": null
     }
    },
    "ec066e211d664179960f737abdfd70f6": {
     "model_module": "@jupyter-widgets/base",
     "model_name": "LayoutModel",
     "state": {
      "_model_module": "@jupyter-widgets/base",
      "_model_module_version": "1.2.0",
      "_model_name": "LayoutModel",
      "_view_count": null,
      "_view_module": "@jupyter-widgets/base",
      "_view_module_version": "1.2.0",
      "_view_name": "LayoutView",
      "align_content": null,
      "align_items": null,
      "align_self": null,
      "border": null,
      "bottom": null,
      "display": null,
      "flex": null,
      "flex_flow": null,
      "grid_area": null,
      "grid_auto_columns": null,
      "grid_auto_flow": null,
      "grid_auto_rows": null,
      "grid_column": null,
      "grid_gap": null,
      "grid_row": null,
      "grid_template_areas": null,
      "grid_template_columns": null,
      "grid_template_rows": null,
      "height": null,
      "justify_content": null,
      "justify_items": null,
      "left": null,
      "margin": null,
      "max_height": null,
      "max_width": null,
      "min_height": null,
      "min_width": null,
      "object_fit": null,
      "object_position": null,
      "order": null,
      "overflow": null,
      "overflow_x": null,
      "overflow_y": null,
      "padding": null,
      "right": null,
      "top": null,
      "visibility": null,
      "width": null
     }
    },
    "f33821b1e9d34a8aa669a883ebf2445c": {
     "model_module": "@jupyter-widgets/controls",
     "model_name": "ProgressStyleModel",
     "state": {
      "_model_module": "@jupyter-widgets/controls",
      "_model_module_version": "1.5.0",
      "_model_name": "ProgressStyleModel",
      "_view_count": null,
      "_view_module": "@jupyter-widgets/base",
      "_view_module_version": "1.2.0",
      "_view_name": "StyleView",
      "bar_color": null,
      "description_width": ""
     }
    },
    "f41b30d706f343f3bc4edd694c016580": {
     "model_module": "@jupyter-widgets/controls",
     "model_name": "HTMLModel",
     "state": {
      "_dom_classes": [],
      "_model_module": "@jupyter-widgets/controls",
      "_model_module_version": "1.5.0",
      "_model_name": "HTMLModel",
      "_view_count": null,
      "_view_module": "@jupyter-widgets/controls",
      "_view_module_version": "1.5.0",
      "_view_name": "HTMLView",
      "description": "",
      "description_tooltip": null,
      "layout": "IPY_MODEL_911cfdf7ebc842b18555e77ab0b2eba3",
      "placeholder": "​",
      "style": "IPY_MODEL_7e78fda130a04a8385dbfd743fab0e5f",
      "value": "100% 10/10 [00:00&lt;00:00, 461.35it/s]"
     }
    },
    "f879231f5b354bbba398ce34741a23e3": {
     "model_module": "@jupyter-widgets/base",
     "model_name": "LayoutModel",
     "state": {
      "_model_module": "@jupyter-widgets/base",
      "_model_module_version": "1.2.0",
      "_model_name": "LayoutModel",
      "_view_count": null,
      "_view_module": "@jupyter-widgets/base",
      "_view_module_version": "1.2.0",
      "_view_name": "LayoutView",
      "align_content": null,
      "align_items": null,
      "align_self": null,
      "border": null,
      "bottom": null,
      "display": null,
      "flex": null,
      "flex_flow": null,
      "grid_area": null,
      "grid_auto_columns": null,
      "grid_auto_flow": null,
      "grid_auto_rows": null,
      "grid_column": null,
      "grid_gap": null,
      "grid_row": null,
      "grid_template_areas": null,
      "grid_template_columns": null,
      "grid_template_rows": null,
      "height": null,
      "justify_content": null,
      "justify_items": null,
      "left": null,
      "margin": null,
      "max_height": null,
      "max_width": null,
      "min_height": null,
      "min_width": null,
      "object_fit": null,
      "object_position": null,
      "order": null,
      "overflow": null,
      "overflow_x": null,
      "overflow_y": null,
      "padding": null,
      "right": null,
      "top": null,
      "visibility": null,
      "width": null
     }
    },
    "faef40cbc265421682dd752de6a20825": {
     "model_module": "@jupyter-widgets/base",
     "model_name": "LayoutModel",
     "state": {
      "_model_module": "@jupyter-widgets/base",
      "_model_module_version": "1.2.0",
      "_model_name": "LayoutModel",
      "_view_count": null,
      "_view_module": "@jupyter-widgets/base",
      "_view_module_version": "1.2.0",
      "_view_name": "LayoutView",
      "align_content": null,
      "align_items": null,
      "align_self": null,
      "border": null,
      "bottom": null,
      "display": null,
      "flex": null,
      "flex_flow": null,
      "grid_area": null,
      "grid_auto_columns": null,
      "grid_auto_flow": null,
      "grid_auto_rows": null,
      "grid_column": null,
      "grid_gap": null,
      "grid_row": null,
      "grid_template_areas": null,
      "grid_template_columns": null,
      "grid_template_rows": null,
      "height": null,
      "justify_content": null,
      "justify_items": null,
      "left": null,
      "margin": null,
      "max_height": null,
      "max_width": null,
      "min_height": null,
      "min_width": null,
      "object_fit": null,
      "object_position": null,
      "order": null,
      "overflow": null,
      "overflow_x": null,
      "overflow_y": null,
      "padding": null,
      "right": null,
      "top": null,
      "visibility": null,
      "width": null
     }
    },
    "fbaebddc8f7c43eba2c8a76dc2ffa9bb": {
     "model_module": "@jupyter-widgets/controls",
     "model_name": "HTMLModel",
     "state": {
      "_dom_classes": [],
      "_model_module": "@jupyter-widgets/controls",
      "_model_module_version": "1.5.0",
      "_model_name": "HTMLModel",
      "_view_count": null,
      "_view_module": "@jupyter-widgets/controls",
      "_view_module_version": "1.5.0",
      "_view_name": "HTMLView",
      "description": "",
      "description_tooltip": null,
      "layout": "IPY_MODEL_ec066e211d664179960f737abdfd70f6",
      "placeholder": "​",
      "style": "IPY_MODEL_bf0dc60339514760ae60582601e339ff",
      "value": "  2% 24/1103 [00:18&lt;13:54,  1.29it/s]"
     }
    }
   }
  }
 },
 "nbformat": 4,
 "nbformat_minor": 4
}
